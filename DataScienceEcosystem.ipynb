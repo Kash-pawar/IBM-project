{
 "cells": [
  {
   "cell_type": "markdown",
   "id": "8c6e1343-1e26-494f-bd5b-63c5a88f4a70",
   "metadata": {},
   "source": [
    "# Data Science Tools and Ecosystems"
   ]
  },
  {
   "cell_type": "markdown",
   "id": "0664bea9-a321-4966-ae19-f74da0473901",
   "metadata": {},
   "source": [
    "In this notebook, Data Science Tools and Ecosystem are summarized.\n"
   ]
  },
  {
   "cell_type": "markdown",
   "id": "d80b4fc0-7106-462b-a25e-98a9419a2904",
   "metadata": {},
   "source": [
    "Some of the popular languages that Data Scientists use are:\n"
   ]
  },
  {
   "cell_type": "markdown",
   "id": "a026a74c-7fad-4548-bf1a-9dee6bdc71d2",
   "metadata": {},
   "source": [
    "1. Python\n",
    "2. R\n",
    "3. SQL"
   ]
  },
  {
   "cell_type": "markdown",
   "id": "46bdabec-304b-4ef6-89e8-f3103e82d1ec",
   "metadata": {},
   "source": [
    "Some of the commonly used libraries used by Data Scientists include:\n"
   ]
  },
  {
   "cell_type": "markdown",
   "id": "e725c8df-1323-436e-ab0f-53222163575f",
   "metadata": {},
   "source": [
    "1. Numpy\n",
    "2. Matplotlib\n",
    "3. Pandas"
   ]
  },
  {
   "cell_type": "markdown",
   "id": "b991730b-5e07-4b5f-8df1-ba622de9a7b1",
   "metadata": {},
   "source": [
    "|data science tools|\n",
    "--------------------\n",
    "| Jupyterlabs   |\n",
    "| VS studio  |\n",
    "| RStudio |"
   ]
  },
  {
   "cell_type": "markdown",
   "id": "5115f8ca-9a9d-4ed4-a6c1-706dfdcae4dd",
   "metadata": {},
   "source": [
    "### Below are a few examples of evaluating arithmetic expressions in Python.\n"
   ]
  },
  {
   "cell_type": "code",
   "execution_count": 1,
   "id": "e593c1b4-2b5f-4973-ab0b-cd8eb37c5257",
   "metadata": {
    "tags": []
   },
   "outputs": [
    {
     "data": {
      "text/plain": [
       "17"
      ]
     },
     "execution_count": 1,
     "metadata": {},
     "output_type": "execute_result"
    }
   ],
   "source": [
    "#This a simple arithmetic expression to mutiply then add integers.\n",
    "(3*4)+5"
   ]
  },
  {
   "cell_type": "code",
   "execution_count": 2,
   "id": "876c447e-5e7d-4f84-b463-2a265009c7f3",
   "metadata": {
    "tags": []
   },
   "outputs": [
    {
     "data": {
      "text/plain": [
       "3.3333333333333335"
      ]
     },
     "execution_count": 2,
     "metadata": {},
     "output_type": "execute_result"
    }
   ],
   "source": [
    "#This will convert 200 minutes to hours by diving by 60.\n",
    "200/60"
   ]
  },
  {
   "cell_type": "markdown",
   "id": "9479483d-ce8a-4ee3-9bca-93b785fac0c9",
   "metadata": {},
   "source": [
    "**Objectives:**"
   ]
  },
  {
   "cell_type": "markdown",
   "id": "cfb736bb-a36e-4496-92b5-92e618ea2ee3",
   "metadata": {
    "tags": []
   },
   "source": [
    "* most popular Data Science languages\n",
    "* commonly used Data Science libraries\n",
    "* widely used open-source development environments\n",
    "* examples of few of the operations that can be done in these environments\n"
   ]
  },
  {
   "cell_type": "markdown",
   "id": "6213ae1c-97d9-4478-b9fd-61cf55b96232",
   "metadata": {},
   "source": [
    "## Author\n",
    "Kashish Pawar"
   ]
  },
  {
   "cell_type": "code",
   "execution_count": null,
   "id": "63b90b92-0054-4c76-bc77-35f7a26d1df9",
   "metadata": {},
   "outputs": [],
   "source": []
  }
 ],
 "metadata": {
  "kernelspec": {
   "display_name": "Python",
   "language": "python",
   "name": "conda-env-python-py"
  },
  "language_info": {
   "codemirror_mode": {
    "name": "ipython",
    "version": 3
   },
   "file_extension": ".py",
   "mimetype": "text/x-python",
   "name": "python",
   "nbconvert_exporter": "python",
   "pygments_lexer": "ipython3",
   "version": "3.7.12"
  }
 },
 "nbformat": 4,
 "nbformat_minor": 5
}
